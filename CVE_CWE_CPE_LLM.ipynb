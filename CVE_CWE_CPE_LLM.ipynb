{
  "nbformat": 4,
  "nbformat_minor": 0,
  "metadata": {
    "colab": {
      "provenance": [],
      "mount_file_id": "1hZN4dbVzuvh0fct9dUg5Bg0Z8497wbdI",
      "authorship_tag": "ABX9TyMWnJqMY5ACE80fXpY8Gebs",
      "include_colab_link": true
    },
    "kernelspec": {
      "name": "python3",
      "display_name": "Python 3"
    },
    "language_info": {
      "name": "python"
    }
  },
  "cells": [
    {
      "cell_type": "markdown",
      "metadata": {
        "id": "view-in-github",
        "colab_type": "text"
      },
      "source": [
        "<a href=\"https://colab.research.google.com/github/Swati-Yadv/Deep-Learning/blob/master/CVE_CWE_CPE_LLM.ipynb\" target=\"_parent\"><img src=\"https://colab.research.google.com/assets/colab-badge.svg\" alt=\"Open In Colab\"/></a>"
      ]
    },
    {
      "cell_type": "markdown",
      "source": [
        "Converting JSON File into CSV File\n"
      ],
      "metadata": {
        "id": "4m1TuUea0jbU"
      }
    },
    {
      "cell_type": "code",
      "source": [
        "from google.colab import files\n",
        "\n",
        "# Replace 'your_output_file.csv' with the name of your CSV file\n",
        "files.download('nvdcve_2023_report.csv')\n"
      ],
      "metadata": {
        "colab": {
          "base_uri": "https://localhost:8080/",
          "height": 17
        },
        "id": "GLeFWP4tbnS8",
        "outputId": "b878ddad-c07b-4480-c268-1d5ba6ab549b"
      },
      "execution_count": 21,
      "outputs": [
        {
          "output_type": "display_data",
          "data": {
            "text/plain": [
              "<IPython.core.display.Javascript object>"
            ],
            "application/javascript": [
              "\n",
              "    async function download(id, filename, size) {\n",
              "      if (!google.colab.kernel.accessAllowed) {\n",
              "        return;\n",
              "      }\n",
              "      const div = document.createElement('div');\n",
              "      const label = document.createElement('label');\n",
              "      label.textContent = `Downloading \"${filename}\": `;\n",
              "      div.appendChild(label);\n",
              "      const progress = document.createElement('progress');\n",
              "      progress.max = size;\n",
              "      div.appendChild(progress);\n",
              "      document.body.appendChild(div);\n",
              "\n",
              "      const buffers = [];\n",
              "      let downloaded = 0;\n",
              "\n",
              "      const channel = await google.colab.kernel.comms.open(id);\n",
              "      // Send a message to notify the kernel that we're ready.\n",
              "      channel.send({})\n",
              "\n",
              "      for await (const message of channel.messages) {\n",
              "        // Send a message to notify the kernel that we're ready.\n",
              "        channel.send({})\n",
              "        if (message.buffers) {\n",
              "          for (const buffer of message.buffers) {\n",
              "            buffers.push(buffer);\n",
              "            downloaded += buffer.byteLength;\n",
              "            progress.value = downloaded;\n",
              "          }\n",
              "        }\n",
              "      }\n",
              "      const blob = new Blob(buffers, {type: 'application/binary'});\n",
              "      const a = document.createElement('a');\n",
              "      a.href = window.URL.createObjectURL(blob);\n",
              "      a.download = filename;\n",
              "      div.appendChild(a);\n",
              "      a.click();\n",
              "      div.remove();\n",
              "    }\n",
              "  "
            ]
          },
          "metadata": {}
        },
        {
          "output_type": "display_data",
          "data": {
            "text/plain": [
              "<IPython.core.display.Javascript object>"
            ],
            "application/javascript": [
              "download(\"download_e857e597-5cf1-4853-827a-9735ab31bacf\", \"nvdcve_2023_report.csv\", 11141245)"
            ]
          },
          "metadata": {}
        }
      ]
    },
    {
      "cell_type": "code",
      "source": [
        "import json\n",
        "import pandas as pd\n",
        "\n",
        "# Load the JSON file\n",
        "with open('nvdcve-1.1-2023.json', 'r') as file:\n",
        "    data = json.load(file)\n",
        "\n",
        "# List to store the extracted information\n",
        "cve_data = []\n",
        "\n",
        "# Loop through the CVE items in the JSON file\n",
        "for item in data['CVE_Items']:\n",
        "    cve_id = item['cve']['CVE_data_meta']['ID']\n",
        "\n",
        "    # Extract the description\n",
        "    cve_description = item['cve']['description']['description_data'][0]['value'] if item['cve']['description']['description_data'] else ''\n",
        "\n",
        "    # Extract problem type (CWE)\n",
        "    problem_types = item['cve']['problemtype']['problemtype_data'][0]['description']\n",
        "    problem_type = ', '.join([ptype['value'] for ptype in problem_types]) if problem_types else 'N/A'\n",
        "\n",
        "    # Extract tags from references\n",
        "    references = item['cve']['references']['reference_data']\n",
        "    tags = ', '.join([', '.join(ref.get('tags', [])) for ref in references]) if references else 'N/A'\n",
        "\n",
        "    # Extract cvssV3 information\n",
        "    if 'baseMetricV3' in item['impact']:\n",
        "        cvssv3 = item['impact']['baseMetricV3']['cvssV3']\n",
        "        version = cvssv3.get('version', '')\n",
        "        vector_string = cvssv3.get('vectorString', '')\n",
        "        attack_vector = cvssv3.get('attackVector', '')\n",
        "        attack_complexity = cvssv3.get('attackComplexity', '')\n",
        "        privileges_required = cvssv3.get('privilegesRequired', '')\n",
        "        user_interaction = cvssv3.get('userInteraction', '')\n",
        "        scope = cvssv3.get('scope', '')\n",
        "        confidentiality_impact = cvssv3.get('confidentialityImpact', '')\n",
        "        integrity_impact = cvssv3.get('integrityImpact', '')\n",
        "        availability_impact = cvssv3.get('availabilityImpact', '')\n",
        "        base_score = item['impact']['baseMetricV3']['cvssV3']['baseScore']\n",
        "        base_severity = item['impact']['baseMetricV3']['cvssV3']['baseSeverity']\n",
        "    else:\n",
        "        version = vector_string = attack_vector = attack_complexity = privileges_required = ''\n",
        "        user_interaction = scope = confidentiality_impact = integrity_impact = availability_impact = base_score = base_severity = ''\n",
        "\n",
        "    # Extract impact score and exploitability score\n",
        "    cvssV3 = item.get('impact', {}).get('baseMetricV3', {}).get('cvssV3', {})\n",
        "    cvssV3_base_score = cvssv3.get('baseScore', 'N/A')\n",
        "    cvssv3_exploitability_score = item.get('impact', {}).get('baseMetricV3', {}).get('exploitabilityScore', 'N/A')\n",
        "    cvssv3_impact_score = item.get('impact', {}).get('baseMetricV3', {}).get('impactScore', 'N/A')\n",
        "\n",
        "\n",
        "    # Extract CPE name from configurations if available\n",
        "    cpe_name = ''\n",
        "    if 'nodes' in item['configurations']:\n",
        "        for node in item['configurations']['nodes']:\n",
        "          if 'children' in node:\n",
        "            for child in node['children']:\n",
        "              if 'cpe_match' in child:\n",
        "                cpe_name = child['cpe_match'][0].get('cpe23Uri', '')\n",
        "\n",
        "\n",
        "    # Compile the information into a dictionary\n",
        "    cve_record = {\n",
        "        'CVE ID': cve_id,\n",
        "        'Description': cve_description,\n",
        "        'Problem Type (CWE)': problem_type,\n",
        "        'Tags': tags,\n",
        "        'CPE Name': cpe_name,\n",
        "        'CVSS Version': version,\n",
        "        'Vector String': vector_string,\n",
        "        'Attack Vector': attack_vector,\n",
        "        'Attack Complexity': attack_complexity,\n",
        "        'Privileges Required': privileges_required,\n",
        "        'User Interaction': user_interaction,\n",
        "        'Scope': scope,\n",
        "        'Confidentiality Impact': confidentiality_impact,\n",
        "        'Integrity Impact': integrity_impact,\n",
        "        'Availability Impact': availability_impact,\n",
        "        'Base Score': base_score,\n",
        "        'Base Severity': base_severity,\n",
        "        'Impact Score': impact_score,\n",
        "        'Exploitability Score': exploitability_score\n",
        "    }\n",
        "\n",
        "    # Append to the list\n",
        "    cve_data.append(cve_record)\n",
        "\n",
        "# Convert the list to a DataFrame\n",
        "cve_df = pd.DataFrame(cve_data)\n",
        "\n",
        "# Save the DataFrame to a CSV file\n",
        "cve_df.to_csv('nvdcve-1.1-2023.csv', index=False)\n",
        "\n",
        "print(\"CVE data has been successfully extracted and saved to 'nvd_cve_report_2023.csv'.\")\n"
      ],
      "metadata": {
        "colab": {
          "base_uri": "https://localhost:8080/"
        },
        "id": "n7zku-8KeRco",
        "outputId": "338a6c52-3519-4acb-f314-fc041cd042ff"
      },
      "execution_count": 29,
      "outputs": [
        {
          "output_type": "stream",
          "name": "stdout",
          "text": [
            "CVE data has been successfully extracted and saved to 'nvd_cve_report_2023.csv'.\n"
          ]
        }
      ]
    },
    {
      "cell_type": "code",
      "source": [
        "from google.colab import files\n",
        "\n",
        "files.download('nvdcve-1.1-2023.csv')\n"
      ],
      "metadata": {
        "colab": {
          "base_uri": "https://localhost:8080/",
          "height": 17
        },
        "id": "OkqR7OIhgzmu",
        "outputId": "2a7f26b9-ae27-4a55-aea6-2d45b5e20c24"
      },
      "execution_count": 30,
      "outputs": [
        {
          "output_type": "display_data",
          "data": {
            "text/plain": [
              "<IPython.core.display.Javascript object>"
            ],
            "application/javascript": [
              "\n",
              "    async function download(id, filename, size) {\n",
              "      if (!google.colab.kernel.accessAllowed) {\n",
              "        return;\n",
              "      }\n",
              "      const div = document.createElement('div');\n",
              "      const label = document.createElement('label');\n",
              "      label.textContent = `Downloading \"${filename}\": `;\n",
              "      div.appendChild(label);\n",
              "      const progress = document.createElement('progress');\n",
              "      progress.max = size;\n",
              "      div.appendChild(progress);\n",
              "      document.body.appendChild(div);\n",
              "\n",
              "      const buffers = [];\n",
              "      let downloaded = 0;\n",
              "\n",
              "      const channel = await google.colab.kernel.comms.open(id);\n",
              "      // Send a message to notify the kernel that we're ready.\n",
              "      channel.send({})\n",
              "\n",
              "      for await (const message of channel.messages) {\n",
              "        // Send a message to notify the kernel that we're ready.\n",
              "        channel.send({})\n",
              "        if (message.buffers) {\n",
              "          for (const buffer of message.buffers) {\n",
              "            buffers.push(buffer);\n",
              "            downloaded += buffer.byteLength;\n",
              "            progress.value = downloaded;\n",
              "          }\n",
              "        }\n",
              "      }\n",
              "      const blob = new Blob(buffers, {type: 'application/binary'});\n",
              "      const a = document.createElement('a');\n",
              "      a.href = window.URL.createObjectURL(blob);\n",
              "      a.download = filename;\n",
              "      div.appendChild(a);\n",
              "      a.click();\n",
              "      div.remove();\n",
              "    }\n",
              "  "
            ]
          },
          "metadata": {}
        },
        {
          "output_type": "display_data",
          "data": {
            "text/plain": [
              "<IPython.core.display.Javascript object>"
            ],
            "application/javascript": [
              "download(\"download_19d7cc6d-e435-4297-9c1b-cebfe2f1c59c\", \"nvdcve-1.1-2023.csv\", 14021903)"
            ]
          },
          "metadata": {}
        }
      ]
    }
  ]
}